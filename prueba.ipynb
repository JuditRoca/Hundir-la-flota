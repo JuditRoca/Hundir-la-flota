{
 "cells": [
  {
   "cell_type": "code",
   "execution_count": 1,
   "metadata": {},
   "outputs": [],
   "source": [
    "import new_funciones as fn \n",
    "import variables as vr"
   ]
  },
  {
   "cell_type": "code",
   "execution_count": null,
   "metadata": {},
   "outputs": [],
   "source": [
    "print(\"Bienvenido a hundir la flota! Comienza el juego.\")\n",
    "\n",
    "for barco in vr.lista_maquina:\n",
    "    tablero = fn.colocar_barco(barco, vr.tablero_maquina)\n",
    "\n",
    "print(\"Vamos a colocar tus barcos:\")\n",
    "for barco in vr.barcos_jugador:\n",
    "    tablero = fn.colocar_barco(barco, vr.tablero_jugador)\n",
    "\n",
    "print(vr.tablero_jugador)"
   ]
  },
  {
   "cell_type": "code",
   "execution_count": null,
   "metadata": {},
   "outputs": [],
   "source": [
    "fn.jugar(vr.jugador)\n"
   ]
  }
 ],
 "metadata": {
  "kernelspec": {
   "display_name": "Python 3",
   "language": "python",
   "name": "python3"
  },
  "language_info": {
   "codemirror_mode": {
    "name": "ipython",
    "version": 3
   },
   "file_extension": ".py",
   "mimetype": "text/x-python",
   "name": "python",
   "nbconvert_exporter": "python",
   "pygments_lexer": "ipython3",
   "version": "3.7.4"
  },
  "orig_nbformat": 4
 },
 "nbformat": 4,
 "nbformat_minor": 2
}
