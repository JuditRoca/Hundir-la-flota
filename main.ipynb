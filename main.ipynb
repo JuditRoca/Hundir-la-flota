{
 "cells": [
  {
   "cell_type": "code",
   "execution_count": 1,
   "metadata": {},
   "outputs": [],
   "source": [
    "import new_funciones as fn \n",
    "import variables as vr"
   ]
  },
  {
   "cell_type": "code",
   "execution_count": 2,
   "metadata": {},
   "outputs": [
    {
     "name": "stdout",
     "output_type": "stream",
     "text": [
      "Bienvenido a hundir la flota! Comienza el juego.\n",
      "Vamos a colocar tus barcos:\n",
      "[[' ' ' ' ' ' ' ' 'B' ' ' ' ' ' ' ' ' ' ']\n",
      " [' ' ' ' ' ' ' ' ' ' ' ' ' ' ' ' ' ' ' ']\n",
      " [' ' ' ' ' ' ' ' ' ' ' ' ' ' ' ' ' ' ' ']\n",
      " [' ' 'B' ' ' ' ' 'B' ' ' ' ' ' ' ' ' ' ']\n",
      " ['B' 'B' 'B' 'B' 'B' 'B' 'B' ' ' ' ' ' ']\n",
      " ['B' 'B' ' ' 'B' ' ' ' ' ' ' ' ' ' ' ' ']\n",
      " ['B' ' ' ' ' 'B' ' ' ' ' ' ' ' ' ' ' ' ']\n",
      " [' ' ' ' ' ' ' ' ' ' ' ' ' ' 'B' 'B' ' ']\n",
      " [' ' ' ' ' ' ' ' ' ' ' ' ' ' 'B' ' ' ' ']\n",
      " [' ' ' ' ' ' 'B' ' ' ' ' ' ' ' ' ' ' ' ']]\n"
     ]
    }
   ],
   "source": [
    "print(\"Bienvenido a hundir la flota! Comienza el juego.\")\n",
    "\n",
    "for barco in vr.lista_maquina:\n",
    "    tablero = fn.colocar_barco(barco, vr.tablero_maquina)\n",
    "\n",
    "print(\"Vamos a colocar tus barcos:\")\n",
    "for barco in vr.barcos_jugador:\n",
    "    tablero = fn.colocar_barco(barco, vr.tablero_jugador)\n",
    "\n",
    "print(vr.tablero_jugador)"
   ]
  },
  {
   "cell_type": "code",
   "execution_count": 3,
   "metadata": {},
   "outputs": [
    {
     "name": "stdout",
     "output_type": "stream",
     "text": [
      "Turno de Jugador\n",
      "Has dado en mar, cambiamos de turno\n",
      "Tablero jugador:\n",
      "[[' ' ' ' ' ' ' ' 'B' ' ' ' ' ' ' ' ' ' ']\n",
      " [' ' ' ' ' ' ' ' ' ' ' ' ' ' ' ' ' ' ' ']\n",
      " [' ' ' ' ' ' ' ' ' ' ' ' ' ' ' ' ' ' ' ']\n",
      " [' ' 'B' ' ' ' ' 'B' ' ' ' ' ' ' ' ' ' ']\n",
      " ['B' 'B' 'B' 'B' 'B' 'B' 'B' ' ' ' ' ' ']\n",
      " ['B' 'B' ' ' 'B' ' ' ' ' ' ' ' ' ' ' ' ']\n",
      " ['B' ' ' ' ' 'B' ' ' ' ' ' ' ' ' ' ' ' ']\n",
      " [' ' ' ' ' ' ' ' ' ' ' ' ' ' 'B' 'B' ' ']\n",
      " [' ' ' ' ' ' ' ' ' ' ' ' ' ' 'B' ' ' ' ']\n",
      " [' ' ' ' ' ' 'B' ' ' ' ' ' ' ' ' ' ' ' ']]\n",
      "Turno de Maquina\n",
      "Has dado en agua, cambio de turno\n",
      "Tablero maquina:\n",
      "[[' ' ' ' ' ' ' ' ' ' ' ' ' ' ' ' ' ' ' ']\n",
      " [' ' ' ' ' ' ' ' ' ' ' ' ' ' ' ' ' ' ' ']\n",
      " [' ' ' ' ' ' ' ' ' ' ' ' ' ' ' ' ' ' ' ']\n",
      " [' ' ' ' 'M' ' ' ' ' ' ' ' ' ' ' ' ' ' ']\n",
      " [' ' ' ' ' ' ' ' ' ' ' ' ' ' ' ' ' ' ' ']\n",
      " [' ' ' ' ' ' ' ' ' ' ' ' ' ' ' ' ' ' ' ']\n",
      " [' ' ' ' ' ' ' ' ' ' ' ' ' ' ' ' ' ' ' ']\n",
      " [' ' ' ' ' ' ' ' ' ' ' ' ' ' ' ' ' ' ' ']\n",
      " [' ' ' ' ' ' ' ' ' ' ' ' ' ' ' ' ' ' ' ']\n",
      " [' ' ' ' ' ' ' ' ' ' ' ' ' ' ' ' ' ' ' ']]\n",
      "Turno de Jugador\n"
     ]
    },
    {
     "ename": "ValueError",
     "evalue": "invalid literal for int() with base 10: ''",
     "output_type": "error",
     "traceback": [
      "\u001b[1;31m---------------------------------------------------------------------------\u001b[0m",
      "\u001b[1;31mValueError\u001b[0m                                Traceback (most recent call last)",
      "\u001b[1;32m~\\AppData\\Local\\Temp\\ipykernel_10736\\4228990604.py\u001b[0m in \u001b[0;36m<module>\u001b[1;34m\u001b[0m\n\u001b[1;32m----> 1\u001b[1;33m \u001b[0mfn\u001b[0m\u001b[1;33m.\u001b[0m\u001b[0mjugar\u001b[0m\u001b[1;33m(\u001b[0m\u001b[0mvr\u001b[0m\u001b[1;33m.\u001b[0m\u001b[0mjugador\u001b[0m\u001b[1;33m)\u001b[0m\u001b[1;33m\u001b[0m\u001b[1;33m\u001b[0m\u001b[0m\n\u001b[0m",
      "\u001b[1;32mc:\\Users\\Usuario\\Documents\\Bootcamp\\Profesor\\YO\\2-Data_Analysis\\Entregas\\Hundir la flota\\new_funciones.py\u001b[0m in \u001b[0;36mjugar\u001b[1;34m(turno_actual)\u001b[0m\n\u001b[0;32m     95\u001b[0m         \u001b[1;32mif\u001b[0m \u001b[0mturno_actual\u001b[0m \u001b[1;33m==\u001b[0m \u001b[0mvr\u001b[0m\u001b[1;33m.\u001b[0m\u001b[0mjugador\u001b[0m\u001b[1;33m:\u001b[0m\u001b[1;33m\u001b[0m\u001b[1;33m\u001b[0m\u001b[0m\n\u001b[0;32m     96\u001b[0m \u001b[1;33m\u001b[0m\u001b[0m\n\u001b[1;32m---> 97\u001b[1;33m             \u001b[0mfila\u001b[0m \u001b[1;33m=\u001b[0m \u001b[0mint\u001b[0m\u001b[1;33m(\u001b[0m\u001b[0minput\u001b[0m\u001b[1;33m(\u001b[0m\u001b[1;34m\"A que fila deseas disparar?\"\u001b[0m\u001b[1;33m)\u001b[0m\u001b[1;33m)\u001b[0m\u001b[1;33m\u001b[0m\u001b[1;33m\u001b[0m\u001b[0m\n\u001b[0m\u001b[0;32m     98\u001b[0m             \u001b[0mcolumna\u001b[0m \u001b[1;33m=\u001b[0m \u001b[0mint\u001b[0m\u001b[1;33m(\u001b[0m\u001b[0minput\u001b[0m\u001b[1;33m(\u001b[0m\u001b[1;34m\"A que columna deseas disparar?\"\u001b[0m\u001b[1;33m)\u001b[0m\u001b[1;33m)\u001b[0m\u001b[1;33m\u001b[0m\u001b[1;33m\u001b[0m\u001b[0m\n\u001b[0;32m     99\u001b[0m             \u001b[0mcasilla\u001b[0m \u001b[1;33m=\u001b[0m \u001b[1;33m(\u001b[0m\u001b[0mfila\u001b[0m\u001b[1;33m,\u001b[0m \u001b[0mcolumna\u001b[0m\u001b[1;33m)\u001b[0m\u001b[1;33m\u001b[0m\u001b[1;33m\u001b[0m\u001b[0m\n",
      "\u001b[1;31mValueError\u001b[0m: invalid literal for int() with base 10: ''"
     ]
    }
   ],
   "source": [
    "fn.jugar(vr.jugador)\n"
   ]
  },
  {
   "cell_type": "markdown",
   "metadata": {},
   "source": []
  }
 ],
 "metadata": {
  "kernelspec": {
   "display_name": "Python 3",
   "language": "python",
   "name": "python3"
  },
  "language_info": {
   "codemirror_mode": {
    "name": "ipython",
    "version": 3
   },
   "file_extension": ".py",
   "mimetype": "text/x-python",
   "name": "python",
   "nbconvert_exporter": "python",
   "pygments_lexer": "ipython3",
   "version": "3.7.4"
  },
  "orig_nbformat": 4
 },
 "nbformat": 4,
 "nbformat_minor": 2
}
